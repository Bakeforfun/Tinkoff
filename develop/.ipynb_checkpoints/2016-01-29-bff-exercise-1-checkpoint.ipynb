{
 "cells": [
  {
   "cell_type": "markdown",
   "metadata": {},
   "source": [
    "# Tinkoff Data Science Challenge"
   ]
  },
  {
   "cell_type": "markdown",
   "metadata": {},
   "source": [
    "## Initialization"
   ]
  },
  {
   "cell_type": "code",
   "execution_count": 76,
   "metadata": {
    "collapsed": false
   },
   "outputs": [],
   "source": [
    "import time\n",
    "import pandas as pd\n",
    "import numpy as np\n",
    "from scipy import interp\n",
    "from sklearn.model_selection import train_test_split\n",
    "from sklearn.model_selection import cross_val_score\n",
    "from sklearn.model_selection import learning_curve\n",
    "from sklearn.model_selection import validation_curve\n",
    "from sklearn.model_selection import GridSearchCV\n",
    "from sklearn.model_selection import StratifiedKFold\n",
    "from sklearn.metrics import confusion_matrix\n",
    "from sklearn.metrics import precision_score\n",
    "from sklearn.metrics import recall_score, f1_score\n",
    "from sklearn.metrics import roc_curve, auc\n",
    "from sklearn.metrics import roc_auc_score\n",
    "from sklearn.metrics import accuracy_score\n",
    "from sklearn.preprocessing import Imputer\n",
    "from sklearn.preprocessing import StandardScaler\n",
    "from sklearn.decomposition import PCA\n",
    "from sklearn.pipeline import Pipeline\n",
    "from sklearn.linear_model import LogisticRegression\n",
    "from sklearn.ensemble import RandomForestClassifier\n",
    "from sklearn.svm import SVC\n",
    "import matplotlib.pyplot as plt\n",
    "%matplotlib inline"
   ]
  },
  {
   "cell_type": "code",
   "execution_count": 101,
   "metadata": {
    "collapsed": true
   },
   "outputs": [],
   "source": [
    "def plot_learning_curve(estimator, X, y, train_sizes=np.linspace(0.1, 1.0, 10), cv=10, n_jobs=-1):\n",
    "    '''\n",
    "    Plot learning curve for the estimator\n",
    "    \n",
    "    Requires from sklearn.model_selection import learning_curve\n",
    "    '''\n",
    "    train_sizes, train_scores, test_scores = learning_curve(estimator=estimator, X=X, y=y, \n",
    "                                                        train_sizes=np.linspace(0.1, 1.0, 10), cv=10, n_jobs=-1)\n",
    "    train_mean = np.mean(train_scores, axis=1)\n",
    "    train_std = np.std(train_scores, axis=1)\n",
    "    test_mean = np.mean(test_scores, axis=1)\n",
    "    test_std = np.std(test_scores, axis=1)\n",
    "    plt.plot(train_sizes, train_mean, color='blue', marker='o', markersize=5, label='training accuracy')\n",
    "    plt.fill_between(train_sizes, train_mean + train_std, train_mean - train_std, alpha=0.15, color='blue')\n",
    "    plt.plot(train_sizes, test_mean, color='green', linestyle='--', marker='s', markersize=5, label='validation accuracy')\n",
    "    plt.fill_between(train_sizes, test_mean + test_std, test_mean - test_std, alpha=0.15, color='green')\n",
    "    plt.grid()\n",
    "    plt.xlabel('Number of training samples')\n",
    "    plt.ylabel('Accuracy')\n",
    "    plt.legend(loc='upper left')\n",
    "    plt.ylim([0.0, 1.0])\n",
    "    plt.show()"
   ]
  },
  {
   "cell_type": "markdown",
   "metadata": {},
   "source": [
    "## Data preparation"
   ]
  },
  {
   "cell_type": "code",
   "execution_count": 2,
   "metadata": {
    "collapsed": false
   },
   "outputs": [],
   "source": [
    "train = pd.read_csv('../data/credit_train.csv', delimiter=';', decimal=',', encoding='cp1251')\n",
    "test = pd.read_csv('../data/credit_test.csv', delimiter=';', decimal=',', encoding='cp1251')"
   ]
  },
  {
   "cell_type": "code",
   "execution_count": 3,
   "metadata": {
    "collapsed": false
   },
   "outputs": [],
   "source": [
    "outcome = train.open_account_flg\n",
    "train.drop(['client_id', 'open_account_flg'], axis=1, inplace=True)\n",
    "testID = test.client_id\n",
    "test.drop(['client_id'], axis=1, inplace=True)\n",
    "train['test'] = False\n",
    "test['test'] = True\n",
    "data = pd.concat([train, test], ignore_index=True)"
   ]
  },
  {
   "cell_type": "markdown",
   "metadata": {},
   "source": [
    "## Data wrangling"
   ]
  },
  {
   "cell_type": "code",
   "execution_count": 4,
   "metadata": {
    "collapsed": false
   },
   "outputs": [
    {
     "data": {
      "text/plain": [
       "0    0.823972\n",
       "1    0.176028\n",
       "Name: open_account_flg, dtype: float64"
      ]
     },
     "execution_count": 4,
     "metadata": {},
     "output_type": "execute_result"
    }
   ],
   "source": [
    "outcome.value_counts(normalize=True)"
   ]
  },
  {
   "cell_type": "code",
   "execution_count": 5,
   "metadata": {
    "collapsed": false
   },
   "outputs": [
    {
     "data": {
      "text/html": [
       "<div>\n",
       "<table border=\"1\" class=\"dataframe\">\n",
       "  <thead>\n",
       "    <tr style=\"text-align: right;\">\n",
       "      <th></th>\n",
       "      <th>gender</th>\n",
       "      <th>age</th>\n",
       "      <th>marital_status</th>\n",
       "      <th>job_position</th>\n",
       "      <th>credit_sum</th>\n",
       "      <th>credit_month</th>\n",
       "      <th>tariff_id</th>\n",
       "      <th>score_shk</th>\n",
       "      <th>education</th>\n",
       "      <th>living_region</th>\n",
       "      <th>monthly_income</th>\n",
       "      <th>credit_count</th>\n",
       "      <th>overdue_credit_count</th>\n",
       "      <th>test</th>\n",
       "    </tr>\n",
       "  </thead>\n",
       "  <tbody>\n",
       "    <tr>\n",
       "      <th>0</th>\n",
       "      <td>M</td>\n",
       "      <td>48</td>\n",
       "      <td>MAR</td>\n",
       "      <td>UMN</td>\n",
       "      <td>59998.00</td>\n",
       "      <td>10</td>\n",
       "      <td>1.6</td>\n",
       "      <td>0.770249</td>\n",
       "      <td>GRD</td>\n",
       "      <td>КРАСНОДАРСКИЙ КРАЙ</td>\n",
       "      <td>30000.0</td>\n",
       "      <td>1.0</td>\n",
       "      <td>1.0</td>\n",
       "      <td>False</td>\n",
       "    </tr>\n",
       "    <tr>\n",
       "      <th>1</th>\n",
       "      <td>F</td>\n",
       "      <td>28</td>\n",
       "      <td>MAR</td>\n",
       "      <td>UMN</td>\n",
       "      <td>10889.00</td>\n",
       "      <td>6</td>\n",
       "      <td>1.1</td>\n",
       "      <td>0.248514</td>\n",
       "      <td>GRD</td>\n",
       "      <td>МОСКВА</td>\n",
       "      <td>43000.0</td>\n",
       "      <td>2.0</td>\n",
       "      <td>0.0</td>\n",
       "      <td>False</td>\n",
       "    </tr>\n",
       "    <tr>\n",
       "      <th>2</th>\n",
       "      <td>M</td>\n",
       "      <td>32</td>\n",
       "      <td>MAR</td>\n",
       "      <td>SPC</td>\n",
       "      <td>10728.00</td>\n",
       "      <td>12</td>\n",
       "      <td>1.1</td>\n",
       "      <td>0.459589</td>\n",
       "      <td>SCH</td>\n",
       "      <td>ОБЛ САРАТОВСКАЯ</td>\n",
       "      <td>23000.0</td>\n",
       "      <td>5.0</td>\n",
       "      <td>0.0</td>\n",
       "      <td>False</td>\n",
       "    </tr>\n",
       "    <tr>\n",
       "      <th>3</th>\n",
       "      <td>F</td>\n",
       "      <td>27</td>\n",
       "      <td>DIV</td>\n",
       "      <td>SPC</td>\n",
       "      <td>12009.09</td>\n",
       "      <td>12</td>\n",
       "      <td>1.1</td>\n",
       "      <td>0.362536</td>\n",
       "      <td>GRD</td>\n",
       "      <td>ОБЛ ВОЛГОГРАДСКАЯ</td>\n",
       "      <td>17000.0</td>\n",
       "      <td>2.0</td>\n",
       "      <td>0.0</td>\n",
       "      <td>False</td>\n",
       "    </tr>\n",
       "    <tr>\n",
       "      <th>4</th>\n",
       "      <td>M</td>\n",
       "      <td>45</td>\n",
       "      <td>MAR</td>\n",
       "      <td>SPC</td>\n",
       "      <td>16908.89</td>\n",
       "      <td>10</td>\n",
       "      <td>1.1</td>\n",
       "      <td>0.421385</td>\n",
       "      <td>SCH</td>\n",
       "      <td>ЧЕЛЯБИНСКАЯ ОБЛАСТЬ</td>\n",
       "      <td>25000.0</td>\n",
       "      <td>1.0</td>\n",
       "      <td>0.0</td>\n",
       "      <td>False</td>\n",
       "    </tr>\n",
       "  </tbody>\n",
       "</table>\n",
       "</div>"
      ],
      "text/plain": [
       "  gender  age marital_status job_position  credit_sum  credit_month tariff_id  \\\n",
       "0      M   48            MAR          UMN    59998.00            10       1.6   \n",
       "1      F   28            MAR          UMN    10889.00             6       1.1   \n",
       "2      M   32            MAR          SPC    10728.00            12       1.1   \n",
       "3      F   27            DIV          SPC    12009.09            12       1.1   \n",
       "4      M   45            MAR          SPC    16908.89            10       1.1   \n",
       "\n",
       "   score_shk education        living_region  monthly_income  credit_count  \\\n",
       "0   0.770249       GRD   КРАСНОДАРСКИЙ КРАЙ         30000.0           1.0   \n",
       "1   0.248514       GRD               МОСКВА         43000.0           2.0   \n",
       "2   0.459589       SCH      ОБЛ САРАТОВСКАЯ         23000.0           5.0   \n",
       "3   0.362536       GRD    ОБЛ ВОЛГОГРАДСКАЯ         17000.0           2.0   \n",
       "4   0.421385       SCH  ЧЕЛЯБИНСКАЯ ОБЛАСТЬ         25000.0           1.0   \n",
       "\n",
       "   overdue_credit_count   test  \n",
       "0                   1.0  False  \n",
       "1                   0.0  False  \n",
       "2                   0.0  False  \n",
       "3                   0.0  False  \n",
       "4                   0.0  False  "
      ]
     },
     "execution_count": 5,
     "metadata": {},
     "output_type": "execute_result"
    }
   ],
   "source": [
    "data.head()"
   ]
  },
  {
   "cell_type": "code",
   "execution_count": 6,
   "metadata": {
    "collapsed": false
   },
   "outputs": [
    {
     "name": "stdout",
     "output_type": "stream",
     "text": [
      "<class 'pandas.core.frame.DataFrame'>\n",
      "RangeIndex: 262686 entries, 0 to 262685\n",
      "Data columns (total 14 columns):\n",
      "gender                  262686 non-null object\n",
      "age                     262686 non-null int64\n",
      "marital_status          262686 non-null object\n",
      "job_position            262686 non-null object\n",
      "credit_sum              262686 non-null float64\n",
      "credit_month            262686 non-null int64\n",
      "tariff_id               262686 non-null object\n",
      "score_shk               262686 non-null float64\n",
      "education               262686 non-null object\n",
      "living_region           262378 non-null object\n",
      "monthly_income          262685 non-null float64\n",
      "credit_count            248753 non-null float64\n",
      "overdue_credit_count    248753 non-null float64\n",
      "test                    262686 non-null bool\n",
      "dtypes: bool(1), float64(5), int64(2), object(6)\n",
      "memory usage: 26.3+ MB\n"
     ]
    }
   ],
   "source": [
    "data.info()"
   ]
  },
  {
   "cell_type": "markdown",
   "metadata": {},
   "source": [
    "### Deal with missing data"
   ]
  },
  {
   "cell_type": "code",
   "execution_count": 7,
   "metadata": {
    "collapsed": false
   },
   "outputs": [
    {
     "data": {
      "text/plain": [
       "gender                      0\n",
       "age                         0\n",
       "marital_status              0\n",
       "job_position                0\n",
       "credit_sum                  0\n",
       "credit_month                0\n",
       "tariff_id                   0\n",
       "score_shk                   0\n",
       "education                   0\n",
       "living_region             308\n",
       "monthly_income              1\n",
       "credit_count            13933\n",
       "overdue_credit_count    13933\n",
       "test                        0\n",
       "dtype: int64"
      ]
     },
     "execution_count": 7,
     "metadata": {},
     "output_type": "execute_result"
    }
   ],
   "source": [
    "data.isnull().sum()"
   ]
  },
  {
   "cell_type": "code",
   "execution_count": 8,
   "metadata": {
    "collapsed": true
   },
   "outputs": [],
   "source": [
    "data['knownRegion'] = ~data.living_region.isnull()\n",
    "data['knownIncome'] = ~data.monthly_income.isnull()\n",
    "data['knownCreditCount'] = ~data.monthly_income.isnull()\n",
    "data['knownOverdueCreditCount'] = ~data.monthly_income.isnull()"
   ]
  },
  {
   "cell_type": "markdown",
   "metadata": {},
   "source": [
    "### Living region"
   ]
  },
  {
   "cell_type": "markdown",
   "metadata": {},
   "source": [
    "1. Create a variable for missing data in living region\n",
    "2. Impute missing values with 'unknown'\n",
    "3. Prepare the variable"
   ]
  },
  {
   "cell_type": "code",
   "execution_count": 9,
   "metadata": {
    "collapsed": false
   },
   "outputs": [],
   "source": [
    "data.loc[data.living_region.isnull(), 'living_region'] = 'unknown'"
   ]
  },
  {
   "cell_type": "code",
   "execution_count": 10,
   "metadata": {
    "collapsed": false
   },
   "outputs": [],
   "source": [
    "data.living_region = [reg.replace('.', ' '). \\\n",
    "                      replace('(', ' '). \\\n",
    "                      replace(')', ' '). \\\n",
    "                      replace('/', ' '). \\\n",
    "                      replace('-', ' '). \\\n",
    "                      replace('ЮГРА', ' '). \\\n",
    "                      replace('ЧУВАШИЯ', ' '). \\\n",
    "                      replace('ЯКУТИЯ', ' '). \\\n",
    "                      replace('Г.', ' '). \\\n",
    "                      split() for reg in data.living_region]"
   ]
  },
  {
   "cell_type": "code",
   "execution_count": 11,
   "metadata": {
    "collapsed": true
   },
   "outputs": [],
   "source": [
    "list_to_be_removed = ['РЕСП',\n",
    "                      'РЕСПУБЛИКА',\n",
    "                      'ОБЛ',\n",
    "                      'ОБЛАСТЬ',\n",
    "                      'АО',\n",
    "                      'АO',\n",
    "                      'АОБЛ',\n",
    "                      'АВТОНОМНЫЙ',\n",
    "                      'АВТОНОМНАЯ',\n",
    "                      'ОКРУГ',\n",
    "                      'КРАЙ']"
   ]
  },
  {
   "cell_type": "code",
   "execution_count": 12,
   "metadata": {
    "collapsed": true
   },
   "outputs": [],
   "source": [
    "dict_to_be_replaced = {'74' : 'ЧЕЛЯБИНСКАЯ',\n",
    "                       '98' : 'САНКТПЕТЕРБУРГ',\n",
    "                       'БРЯНСКИЙ' : 'БРЯНСКАЯ',\n",
    "                       'ГМОСКВА' : 'МОСКВА',\n",
    "                       'ГОДИНЦОВОМОСКОВСКАЯ' : 'ОДИНЦОВО',\n",
    "                       'ГСАНКТПЕТЕРБУРГ' : 'САНКТПЕТЕРБУРГ',\n",
    "                       'ГУСЬХРУСТАЛЬНЫЙРН' : 'ГУСЬХРУСТАЛЬНЫЙ',\n",
    "                       'ГЧЕЛЯБИНСК' : 'ЧЕЛЯБИНСК',\n",
    "                       'КАМЧАТС??ИЙ' : 'КАМЧАТСКИЙ',\n",
    "                       'МОСКВАГ' : 'МОСКВА',\n",
    "                       'МОСКВОСКАЯ' : 'МОСКОВСКАЯ',\n",
    "                       'МОСКОВСКИЙП' : 'МОСКОВСКИЙ',\n",
    "                       'МЫТИЩИНСКИЙРН' : 'МЫТИЩИНСКИЙ',\n",
    "                       'РЕСПУБЛИКАТАТАРСТАН' : 'ТАТАРСТАН',\n",
    "                       'САНКТПЕТЕРБУРГГ' : 'САНКТПЕТЕРБУРГ',\n",
    "                       'СЕВОСЕТИЯАЛАНИЯ' : 'СЕВЕРНАЯОСЕТИЯАЛАНИЯ',\n",
    "                       'ХАНТЫМАНСИЙСКИЙЮ' : 'ХАНТЫМАНСИЙСКИЙ'\n",
    "                      }"
   ]
  },
  {
   "cell_type": "code",
   "execution_count": 13,
   "metadata": {
    "collapsed": true
   },
   "outputs": [],
   "source": [
    "data.living_region = [[reg for reg in regs if reg not in list_to_be_removed] for regs in data.living_region]"
   ]
  },
  {
   "cell_type": "code",
   "execution_count": 14,
   "metadata": {
    "collapsed": false
   },
   "outputs": [],
   "source": [
    "data.living_region = [''.join(reg) for reg in data.living_region]"
   ]
  },
  {
   "cell_type": "code",
   "execution_count": 15,
   "metadata": {
    "collapsed": true
   },
   "outputs": [],
   "source": [
    "for i in range(len(data.loc[:, 'living_region'])):\n",
    "    if data.loc[i, 'living_region'] in dict_to_be_replaced:\n",
    "        data.loc[i, 'living_region'] = dict_to_be_replaced[data.loc[i, 'living_region']]"
   ]
  },
  {
   "cell_type": "code",
   "execution_count": 16,
   "metadata": {
    "collapsed": false
   },
   "outputs": [
    {
     "data": {
      "text/plain": [
       "98"
      ]
     },
     "execution_count": 16,
     "metadata": {},
     "output_type": "execute_result"
    }
   ],
   "source": [
    "len(set(data.living_region))"
   ]
  },
  {
   "cell_type": "markdown",
   "metadata": {},
   "source": [
    "### Finalize data wrangling"
   ]
  },
  {
   "cell_type": "code",
   "execution_count": 17,
   "metadata": {
    "collapsed": false
   },
   "outputs": [
    {
     "name": "stdout",
     "output_type": "stream",
     "text": [
      "<class 'pandas.core.frame.DataFrame'>\n",
      "RangeIndex: 262686 entries, 0 to 262685\n",
      "Data columns (total 18 columns):\n",
      "gender                     262686 non-null object\n",
      "age                        262686 non-null int64\n",
      "marital_status             262686 non-null object\n",
      "job_position               262686 non-null object\n",
      "credit_sum                 262686 non-null float64\n",
      "credit_month               262686 non-null int64\n",
      "tariff_id                  262686 non-null object\n",
      "score_shk                  262686 non-null float64\n",
      "education                  262686 non-null object\n",
      "living_region              262686 non-null object\n",
      "monthly_income             262685 non-null float64\n",
      "credit_count               248753 non-null float64\n",
      "overdue_credit_count       248753 non-null float64\n",
      "test                       262686 non-null bool\n",
      "knownRegion                262686 non-null bool\n",
      "knownIncome                262686 non-null bool\n",
      "knownCreditCount           262686 non-null bool\n",
      "knownOverdueCreditCount    262686 non-null bool\n",
      "dtypes: bool(5), float64(5), int64(2), object(6)\n",
      "memory usage: 27.3+ MB\n"
     ]
    }
   ],
   "source": [
    "data.info()"
   ]
  },
  {
   "cell_type": "code",
   "execution_count": 18,
   "metadata": {
    "collapsed": false
   },
   "outputs": [],
   "source": [
    "data = pd.get_dummies(data)"
   ]
  },
  {
   "cell_type": "code",
   "execution_count": 19,
   "metadata": {
    "collapsed": true
   },
   "outputs": [],
   "source": [
    "for col in data.columns:\n",
    "    if set(data[col]) == set((0,1)):\n",
    "        data[col] = data[col].astype(bool)"
   ]
  },
  {
   "cell_type": "code",
   "execution_count": 20,
   "metadata": {
    "collapsed": false
   },
   "outputs": [
    {
     "name": "stdout",
     "output_type": "stream",
     "text": [
      "<class 'pandas.core.frame.DataFrame'>\n",
      "RangeIndex: 262686 entries, 0 to 262685\n",
      "Columns: 173 entries, age to living_region_ЯРОСЛАВСКАЯ\n",
      "dtypes: bool(166), float64(5), int64(2)\n",
      "memory usage: 55.6 MB\n"
     ]
    }
   ],
   "source": [
    "data.info()"
   ]
  },
  {
   "cell_type": "code",
   "execution_count": 21,
   "metadata": {
    "collapsed": false
   },
   "outputs": [],
   "source": [
    "train = data[data.test == 0].drop('test', axis=1).copy()\n",
    "test = data[data.test == 1].drop('test', axis=1).copy()"
   ]
  },
  {
   "cell_type": "markdown",
   "metadata": {},
   "source": [
    "## Machine Learning"
   ]
  },
  {
   "cell_type": "code",
   "execution_count": 50,
   "metadata": {
    "collapsed": false
   },
   "outputs": [],
   "source": [
    "X = train\n",
    "y = outcome"
   ]
  },
  {
   "cell_type": "code",
   "execution_count": 51,
   "metadata": {
    "collapsed": false
   },
   "outputs": [],
   "source": [
    "X_train, X_test, y_train, y_test = train_test_split(X, y, test_size=0.15, random_state=1, stratify=y)"
   ]
  },
  {
   "cell_type": "markdown",
   "metadata": {},
   "source": [
    "1. Impute missing values with mean\n",
    "2. Try linear regression after"
   ]
  },
  {
   "cell_type": "markdown",
   "metadata": {},
   "source": [
    "### Logistic regression"
   ]
  },
  {
   "cell_type": "code",
   "execution_count": 26,
   "metadata": {
    "collapsed": false
   },
   "outputs": [],
   "source": [
    "pipe_lr = Pipeline([('imr', Imputer(missing_values='NaN', strategy='mean', axis=0)),\n",
    "                    ('scl', StandardScaler()),\n",
    "                    ('clf', LogisticRegression(random_state=1))])"
   ]
  },
  {
   "cell_type": "code",
   "execution_count": 27,
   "metadata": {
    "collapsed": false
   },
   "outputs": [
    {
     "name": "stdout",
     "output_type": "stream",
     "text": [
      "--- 13.937895059585571 seconds ---\n"
     ]
    }
   ],
   "source": [
    "start_time = time.time()\n",
    "pipe_lr.fit(X_train, y_train)\n",
    "print(\"--- %s seconds ---\" % (time.time() - start_time))"
   ]
  },
  {
   "cell_type": "code",
   "execution_count": 28,
   "metadata": {
    "collapsed": false
   },
   "outputs": [
    {
     "name": "stdout",
     "output_type": "stream",
     "text": [
      "Test Accuracy: 0.823\n"
     ]
    }
   ],
   "source": [
    "print('Test Accuracy: %.3f' % pipe_lr.score(X_test, y_test))"
   ]
  },
  {
   "cell_type": "code",
   "execution_count": 30,
   "metadata": {
    "collapsed": false
   },
   "outputs": [
    {
     "name": "stdout",
     "output_type": "stream",
     "text": [
      "--- 15.987857818603516 seconds ---\n"
     ]
    }
   ],
   "source": [
    "start_time = time.time()\n",
    "scores = cross_val_score(estimator=pipe_lr, X=X_train, y=y_train, cv=10, n_jobs=-1)\n",
    "print(\"--- %s seconds ---\" % (time.time() - start_time))"
   ]
  },
  {
   "cell_type": "code",
   "execution_count": 31,
   "metadata": {
    "collapsed": false
   },
   "outputs": [
    {
     "name": "stdout",
     "output_type": "stream",
     "text": [
      "CV accuracy scores: [ 0.82286069  0.82451426  0.82334298  0.82306738  0.82403197  0.82444536\n",
      "  0.82353752  0.823193    0.82228501  0.82276736]\n",
      "CV accuracy: 0.823 +/- 0.001\n"
     ]
    }
   ],
   "source": [
    "print('CV accuracy scores: %s' % scores)\n",
    "print('CV accuracy: %.3f +/- %.3f' % (np.mean(scores), np.std(scores)))"
   ]
  },
  {
   "cell_type": "markdown",
   "metadata": {},
   "source": [
    "#### Learning curve"
   ]
  },
  {
   "cell_type": "code",
   "execution_count": 32,
   "metadata": {
    "collapsed": false
   },
   "outputs": [
    {
     "name": "stdout",
     "output_type": "stream",
     "text": [
      "--- 49.60561394691467 seconds ---\n"
     ]
    }
   ],
   "source": [
    "start_time = time.time()\n",
    "train_sizes, train_scores, test_scores = learning_curve(estimator=pipe_lr, X=X_train, y=y_train, \n",
    "                                                        train_sizes=np.linspace(0.1, 1.0, 10), cv=10, n_jobs=-1)\n",
    "print(\"--- %s seconds ---\" % (time.time() - start_time))"
   ]
  },
  {
   "cell_type": "code",
   "execution_count": 33,
   "metadata": {
    "collapsed": false
   },
   "outputs": [
    {
     "data": {
      "image/png": "[encoded data removed]",
      "text/plain": [
       "<matplotlib.figure.Figure at 0x7fccbd0e0518>"
      ]
     },
     "metadata": {},
     "output_type": "display_data"
    }
   ],
   "source": [
    "train_mean = np.mean(train_scores, axis=1)\n",
    "train_std = np.std(train_scores, axis=1)\n",
    "test_mean = np.mean(test_scores, axis=1)\n",
    "test_std = np.std(test_scores, axis=1)\n",
    "plt.plot(train_sizes, train_mean, color='blue', marker='o', markersize=5, label='training accuracy')\n",
    "plt.fill_between(train_sizes, train_mean + train_std, train_mean - train_std, alpha=0.15, color='blue')\n",
    "plt.plot(train_sizes, test_mean, color='green', linestyle='--', marker='s', markersize=5, label='validation accuracy')\n",
    "plt.fill_between(train_sizes, test_mean + test_std, test_mean - test_std, alpha=0.15, color='green')\n",
    "plt.grid()\n",
    "plt.xlabel('Number of training samples')\n",
    "plt.ylabel('Accuracy')\n",
    "plt.legend(loc='upper left')\n",
    "plt.ylim([0.82, 0.83])\n",
    "plt.show()"
   ]
  },
  {
   "cell_type": "markdown",
   "metadata": {},
   "source": [
    "#### Validation curve"
   ]
  },
  {
   "cell_type": "code",
   "execution_count": 34,
   "metadata": {
    "collapsed": false
   },
   "outputs": [
    {
     "name": "stdout",
     "output_type": "stream",
     "text": [
      "--- 46.17936086654663 seconds ---\n"
     ]
    }
   ],
   "source": [
    "param_range = [0.001, 0.01, 0.1, 1.0, 10.0, 100.0]\n",
    "start_time = time.time()\n",
    "train_scores, test_scores = validation_curve(estimator=pipe_lr, X=X_train, y=y_train, param_name='clf__C',\n",
    "                                             param_range=param_range, cv=10, n_jobs=-1)\n",
    "print(\"--- %s seconds ---\" % (time.time() - start_time))"
   ]
  },
  {
   "cell_type": "code",
   "execution_count": 35,
   "metadata": {
    "collapsed": false
   },
   "outputs": [
    {
     "data": {
      "image/png": "[encoded data removed]",
      "text/plain": [
       "<matplotlib.figure.Figure at 0x7fccc9e0e518>"
      ]
     },
     "metadata": {},
     "output_type": "display_data"
    }
   ],
   "source": [
    "train_mean = np.mean(train_scores, axis=1)\n",
    "train_std = np.std(train_scores, axis=1)\n",
    "test_mean = np.mean(test_scores, axis=1)\n",
    "test_std = np.std(test_scores, axis=1)\n",
    "plt.plot(param_range, train_mean, color='blue', marker='o', markersize=5, label='training accuracy')\n",
    "plt.fill_between(param_range, train_mean + train_std, train_mean - train_std, alpha=0.15, color='blue')\n",
    "plt.plot(param_range, test_mean, color='green', linestyle='--', marker='s', markersize=5, label='validation accuracy')\n",
    "plt.fill_between(param_range, test_mean + test_std, test_mean - test_std, alpha=0.15, color='green')\n",
    "plt.grid()\n",
    "plt.xscale('log')\n",
    "plt.legend(loc='lower right')\n",
    "plt.xlabel('Parameter C')\n",
    "plt.ylabel('Accuracy')\n",
    "plt.ylim([0.82, 0.83])\n",
    "plt.show()"
   ]
  },
  {
   "cell_type": "markdown",
   "metadata": {},
   "source": [
    "#### Grid search"
   ]
  },
  {
   "cell_type": "code",
   "execution_count": 36,
   "metadata": {
    "collapsed": false
   },
   "outputs": [
    {
     "name": "stdout",
     "output_type": "stream",
     "text": [
      "--- 561.5187752246857 seconds ---\n"
     ]
    }
   ],
   "source": [
    "param_range = [0.0001, 0.001, 0.01, 0.1, 1.0, 10.0, 100.0, 1000.0]\n",
    "param_grid = [{'clf__C': param_range,\n",
    "               'clf__penalty' : ['l1', 'l2']}]\n",
    "gs = GridSearchCV(estimator=pipe_lr, param_grid=param_grid, scoring='accuracy', cv=10, n_jobs=-1)\n",
    "start_time = time.time()\n",
    "gs = gs.fit(X_train, y_train)\n",
    "print(\"--- %s seconds ---\" % (time.time() - start_time))"
   ]
  },
  {
   "cell_type": "code",
   "execution_count": 37,
   "metadata": {
    "collapsed": false
   },
   "outputs": [
    {
     "name": "stdout",
     "output_type": "stream",
     "text": [
      "0.824258960685\n"
     ]
    }
   ],
   "source": [
    "print(gs.best_score_)"
   ]
  },
  {
   "cell_type": "code",
   "execution_count": 38,
   "metadata": {
    "collapsed": false
   },
   "outputs": [
    {
     "name": "stdout",
     "output_type": "stream",
     "text": [
      "{'clf__C': 0.001, 'clf__penalty': 'l1'}\n"
     ]
    }
   ],
   "source": [
    "print(gs.best_params_)"
   ]
  },
  {
   "cell_type": "code",
   "execution_count": 39,
   "metadata": {
    "collapsed": true
   },
   "outputs": [],
   "source": [
    "lr = gs.best_estimator_"
   ]
  },
  {
   "cell_type": "markdown",
   "metadata": {},
   "source": [
    "#### Confusion matrix"
   ]
  },
  {
   "cell_type": "code",
   "execution_count": 40,
   "metadata": {
    "collapsed": false
   },
   "outputs": [
    {
     "name": "stdout",
     "output_type": "stream",
     "text": [
      "[[21060    44]\n",
      " [ 4474    34]]\n"
     ]
    }
   ],
   "source": [
    "lr.fit(X_train, y_train)\n",
    "y_pred = lr.predict(X_test)\n",
    "confmat = confusion_matrix(y_true=y_test, y_pred=y_pred)\n",
    "print(confmat)"
   ]
  },
  {
   "cell_type": "code",
   "execution_count": 41,
   "metadata": {
    "collapsed": false
   },
   "outputs": [
    {
     "data": {
      "image/png": "[encoded data removed]",
      "text/plain": [
       "<matplotlib.figure.Figure at 0x7fccbdc4d470>"
      ]
     },
     "metadata": {},
     "output_type": "display_data"
    }
   ],
   "source": [
    "fig, ax = plt.subplots(figsize=(2.5, 2.5))\n",
    "ax.matshow(confmat, cmap=plt.cm.Blues, alpha=0.3)\n",
    "for i in range(confmat.shape[0]):\n",
    "    for j in range(confmat.shape[1]):\n",
    "        ax.text(x=j, y=i, s=confmat[i, j], va='center', ha='center')\n",
    "plt.xlabel('predicted label')\n",
    "plt.ylabel('true label')\n",
    "plt.show()"
   ]
  },
  {
   "cell_type": "code",
   "execution_count": 42,
   "metadata": {
    "collapsed": false
   },
   "outputs": [
    {
     "name": "stdout",
     "output_type": "stream",
     "text": [
      "Precision: 0.436\n",
      "Recall: 0.008\n",
      "F1: 0.015\n",
      "ROC AUC: 0.503\n",
      "Accuracy: 0.824\n"
     ]
    }
   ],
   "source": [
    "print('Precision: %.3f' % precision_score(y_true=y_test, y_pred=y_pred))\n",
    "print('Recall: %.3f' % recall_score(y_true=y_test, y_pred=y_pred))\n",
    "print('F1: %.3f' % f1_score(y_true=y_test, y_pred=y_pred))\n",
    "print('ROC AUC: %.3f' % roc_auc_score(y_true=y_test, y_score=y_pred))\n",
    "print('Accuracy: %.3f' % accuracy_score(y_true=y_test, y_pred=y_pred))"
   ]
  },
  {
   "cell_type": "markdown",
   "metadata": {},
   "source": [
    "#### ROC curve"
   ]
  },
  {
   "cell_type": "code",
   "execution_count": null,
   "metadata": {
    "collapsed": true
   },
   "outputs": [],
   "source": [
    "# not working yet\n",
    "cv = StratifiedKFold(y_train, n_folds=3, random_state=1)\n",
    "fig = plt.figure(figsize=(7, 5))\n",
    "mean_tpr = 0.0\n",
    "mean_fpr = np.linspace(0, 1, 100)\n",
    "all_tpr = []\n",
    "\n",
    "for i, (train, test) in enumerate(cv): \n",
    "    probas = pipe_lr.fit(X_train[train], y_train[train]).predict_proba(X_train[test])\n",
    "    fpr, tpr, thresholds = roc_curve(y_train[test], probas[:, 1], pos_label=1)\n",
    "    mean_tpr += interp(mean_fpr, fpr, tpr)\n",
    "    mean_trp[0] = 0.0\n",
    "    roc_auc = auc(fpr, tpr)\n",
    "    plt.plot(fpr, tpr, lw=1, label='ROC fold %d (area = %0.2f)' % (i+1, roc_auc))\n",
    "\n",
    "plt.plot([0, 1], [0, 1], linestyle='--', color=(0.6, 0.6, 0.6), label='random guessing')\n",
    "mean_tpr /= len(cv)\n",
    "mean_tpr[-1] = 1.0\n",
    "mean_auc = auc(mean_fpr, mean_tpr)\n",
    "plt.plot(mean_fpr, mean_tpr, 'k--', label='mean ROC (area = %0.2f)' % mean_auc, lw=2)\n",
    "plt.plot([0, 0, 1], [0, 1, 1], lw=2, linestyle=':', color='black', label='perfect performance')\n",
    "plt.xlim([-0.05, 1.05])\n",
    "plt.ylim([-0.05, 1.05])\n",
    "plt.xlabel('false positive rate')\n",
    "plt.ylabel('true positive rate')\n",
    "plt.title('Receiver Operator Characteristic')\n",
    "plt.legend(loc=\"lower right\")\n",
    "plt.show()"
   ]
  },
  {
   "cell_type": "markdown",
   "metadata": {},
   "source": [
    "### Random forest"
   ]
  },
  {
   "cell_type": "code",
   "execution_count": 91,
   "metadata": {
    "collapsed": true
   },
   "outputs": [],
   "source": [
    "rf = RandomForestClassifier(n_estimators=1000, random_state=0, n_jobs=-1)\n",
    "pipe_rf = Pipeline([('imr', Imputer(missing_values='NaN', strategy='mean', axis=0)),\n",
    "                    ('clf', rf)])"
   ]
  },
  {
   "cell_type": "code",
   "execution_count": 92,
   "metadata": {
    "collapsed": false
   },
   "outputs": [
    {
     "name": "stdout",
     "output_type": "stream",
     "text": [
      "--- 25.970134019851685 seconds ---\n"
     ]
    }
   ],
   "source": [
    "start_time = time.time()\n",
    "pipe_rf.fit(X_train, y_train)\n",
    "print(\"--- %s seconds ---\" % (time.time() - start_time))"
   ]
  },
  {
   "cell_type": "code",
   "execution_count": 81,
   "metadata": {
    "collapsed": false
   },
   "outputs": [
    {
     "name": "stdout",
     "output_type": "stream",
     "text": [
      "Test Accuracy: 0.827\n",
      "ROC AUC: 0.543\n"
     ]
    }
   ],
   "source": [
    "print('Test Accuracy: %.3f' % pipe_rf.score(X_test, y_test))\n",
    "print('ROC AUC: %.3f' % roc_auc_score(y_true=y_test, y_score=pipe_rf.predict(X_test)))"
   ]
  },
  {
   "cell_type": "code",
   "execution_count": 96,
   "metadata": {
    "collapsed": false,
    "scrolled": true
   },
   "outputs": [
    {
     "name": "stdout",
     "output_type": "stream",
     "text": [
      " 1) credit_sum                     0.139637\n",
      " 2) score_shk                      0.132040\n",
      " 3) age                            0.106400\n",
      " 4) monthly_income                 0.097971\n",
      " 5) credit_count                   0.058984\n",
      " 6) credit_month                   0.044180\n",
      " 7) tariff_id_1.32                 0.027875\n",
      " 8) overdue_credit_count           0.014283\n",
      " 9) tariff_id_1.1                  0.010370\n",
      "10) marital_status_MAR             0.009809\n",
      "11) living_region_МОСКОВСКАЯ       0.009562\n",
      "12) marital_status_UNM             0.009515\n",
      "13) job_position_SPC               0.009201\n",
      "14) education_SCH                  0.008339\n",
      "15) gender_F                       0.008176\n",
      "16) living_region_КРАСНОДАРСКИЙ    0.008157\n",
      "17) gender_M                       0.008148\n",
      "18) education_GRD                  0.007852\n",
      "19) living_region_МОСКВА           0.007650\n",
      "20) marital_status_DIV             0.007002\n",
      "21) living_region_СВЕРДЛОВСКАЯ     0.006854\n",
      "22) job_position_UMN               0.006824\n",
      "23) tariff_id_1.6                  0.006676\n",
      "24) living_region_САНКТПЕТЕРБУРГ   0.006653\n",
      "25) living_region_ТАТАРСТАН        0.006303\n",
      "26) living_region_ЧЕЛЯБИНСКАЯ      0.006188\n",
      "27) living_region_БАШКОРТОСТАН     0.005716\n",
      "28) living_region_РОСТОВСКАЯ       0.005549\n",
      "29) living_region_ИРКУТСКАЯ        0.005434\n",
      "30) living_region_ХАНТЫМАНСИЙСКИЙ  0.005315\n",
      "31) job_position_PNA               0.005246\n",
      "32) living_region_НИЖЕГОРОДСКАЯ    0.004766\n",
      "33) living_region_КРАСНОЯРСКИЙ     0.004643\n",
      "34) education_UGR                  0.004584\n",
      "35) living_region_ЛЕНИНГРАДСКАЯ    0.004472\n",
      "36) living_region_ПЕРМСКИЙ         0.004364\n",
      "37) tariff_id_1.4                  0.004270\n",
      "38) tariff_id_1.3                  0.004211\n",
      "39) living_region_ТЮМЕНСКАЯ        0.004162\n",
      "40) living_region_КЕМЕРОВСКАЯ      0.004150\n",
      "41) living_region_САМАРСКАЯ        0.003961\n",
      "42) marital_status_CIV             0.003729\n",
      "43) job_position_BIS               0.003679\n",
      "44) living_region_ВОЛГОГРАДСКАЯ    0.003655\n",
      "45) living_region_СТАВРОПОЛЬСКИЙ   0.003643\n",
      "46) tariff_id_1.5                  0.003470\n",
      "47) living_region_САРАТОВСКАЯ      0.003388\n",
      "48) living_region_НОВОСИБИРСКАЯ    0.003377\n",
      "49) job_position_ATP               0.003223\n",
      "50) living_region_ЯМАЛОНЕНЕЦКИЙ    0.003199\n",
      "51) living_region_САХА             0.003117\n",
      "52) living_region_ТВЕРСКАЯ         0.003012\n",
      "53) living_region_ХАБАРОВСКИЙ      0.002961\n",
      "54) living_region_КОМИ             0.002958\n",
      "55) living_region_АРХАНГЕЛЬСКАЯ    0.002930\n",
      "56) tariff_id_1.9                  0.002852\n",
      "57) living_region_ВОРОНЕЖСКАЯ      0.002851\n",
      "58) living_region_ЗАБАЙКАЛЬСКИЙ    0.002809\n",
      "59) living_region_АСТРАХАНСКАЯ     0.002796\n",
      "60) living_region_БУРЯТИЯ          0.002631\n",
      "61) marital_status_WID             0.002583\n",
      "62) living_region_ТУЛЬСКАЯ         0.002570\n",
      "63) living_region_ВЛАДИМИРСКАЯ     0.002514\n",
      "64) living_region_ОРЕНБУРГСКАЯ     0.002477\n",
      "65) job_position_DIR               0.002474\n",
      "66) living_region_МУРМАНСКАЯ       0.002336\n",
      "67) living_region_ПРИМОРСКИЙ       0.002299\n",
      "68) tariff_id_1.43                 0.002263\n",
      "69) living_region_УДМУРТСКАЯ       0.002222\n",
      "70) living_region_ОМСКАЯ           0.002186\n",
      "71) living_region_КУРСКАЯ          0.002174\n",
      "72) living_region_КУРГАНСКАЯ       0.002170\n",
      "73) living_region_КАЛУЖСКАЯ        0.002134\n",
      "74) living_region_КАБАРДИНОБАЛКАРСКАЯ 0.001953\n",
      "75) living_region_ВОЛОГОДСКАЯ      0.001950\n",
      "76) living_region_КАРАЧАЕВОЧЕРКЕССКАЯ 0.001928\n",
      "77) living_region_ИВАНОВСКАЯ       0.001924\n",
      "78) living_region_ЛИПЕЦКАЯ         0.001862\n",
      "79) living_region_ТЫВА             0.001857\n",
      "80) living_region_СМОЛЕНСКАЯ       0.001854\n",
      "81) living_region_ЧУВАШСКАЯ        0.001845\n",
      "82) living_region_БРЯНСКАЯ         0.001808\n",
      "83) living_region_АМУРСКАЯ         0.001795\n",
      "84) tariff_id_1.44                 0.001702\n",
      "85) living_region_ОРЛОВСКАЯ        0.001693\n",
      "86) living_region_УЛЬЯНОВСКАЯ      0.001689\n",
      "87) living_region_РЯЗАНСКАЯ        0.001665\n",
      "88) living_region_ЯРОСЛАВСКАЯ      0.001644\n",
      "89) living_region_ТОМСКАЯ          0.001635\n",
      "90) living_region_ТАМБОВСКАЯ       0.001629\n",
      "91) living_region_АДЫГЕЯ           0.001578\n",
      "92) tariff_id_1.16                 0.001556\n",
      "93) living_region_ПЕНЗЕНСКАЯ       0.001555\n",
      "94) living_region_САХАЛИНСКАЯ      0.001553\n",
      "95) job_position_NOR               0.001542\n",
      "96) living_region_МОРДОВИЯ         0.001527\n",
      "97) living_region_БЕЛГОРОДСКАЯ     0.001497\n",
      "98) living_region_КИРОВСКАЯ        0.001468\n",
      "99) tariff_id_1.0                  0.001448\n",
      "100) living_region_АЛТАЙСКИЙ        0.001437\n",
      "101) tariff_id_1.19                 0.001421\n",
      "102) living_region_КАЛИНИНГРАДСКАЯ  0.001360\n",
      "103) living_region_НОВГОРОДСКАЯ     0.001297\n",
      "104) living_region_ПСКОВСКАЯ        0.001227\n",
      "105) living_region_КАРЕЛИЯ          0.001209\n",
      "106) living_region_МАРИЙЭЛ          0.001206\n",
      "107) living_region_ХАКАСИЯ          0.001199\n",
      "108) living_region_СЕВЕРНАЯОСЕТИЯАЛАНИЯ 0.001108\n",
      "109) living_region_КОСТРОМСКАЯ      0.001106\n",
      "110) living_region_КАЛМЫКИЯ         0.001072\n",
      "111) living_region_КАМЧАТСКИЙ       0.000974\n",
      "112) job_position_WRK               0.000973\n",
      "113) tariff_id_1.17                 0.000875\n",
      "114) tariff_id_1.7                  0.000853\n",
      "115) education_PGR                  0.000819\n",
      "116) job_position_WOI               0.000805\n",
      "117) living_region_ЕВРЕЙСКАЯ        0.000736\n",
      "118) tariff_id_1.91                 0.000709\n",
      "119) tariff_id_1.2                  0.000635\n",
      "120) living_region_НЕНЕЦКИЙ         0.000604\n",
      "121) tariff_id_1.20                 0.000602\n",
      "122) tariff_id_1.18                 0.000581\n",
      "123) job_position_INP               0.000569\n",
      "124) living_region_МАГАДАНСКАЯ      0.000556\n",
      "125) living_region_ДАГЕСТАН         0.000515\n",
      "126) tariff_id_1.94                 0.000480\n",
      "127) job_position_BIU               0.000454\n",
      "128) tariff_id_1.24                 0.000446\n",
      "129) living_region_ЧУКОТСКИЙ        0.000406\n",
      "130) tariff_id_1.21                 0.000321\n",
      "131) tariff_id_1.41                 0.000307\n",
      "132) living_region_АЛТАЙ            0.000248\n",
      "133) tariff_id_1.22                 0.000247\n",
      "134) tariff_id_1.23                 0.000246\n",
      "135) education_ACD                  0.000244\n",
      "136) job_position_WRP               0.000236\n",
      "137) job_position_PNI               0.000203\n",
      "138) tariff_id_1.25                 0.000189\n",
      "139) living_region_ЧЕЧЕНСКАЯ        0.000169\n",
      "140) living_region_ИНГУШЕТИЯ        0.000143\n",
      "141) living_region_unknown          0.000125\n",
      "142) knownRegion                    0.000124\n",
      "143) job_position_PNV               0.000119\n",
      "144) living_region_ПЕРМСКАЯ         0.000114\n",
      "145) living_region_ЧИТИНСКАЯ        0.000108\n",
      "146) living_region_РОССИЯ           0.000055\n",
      "147) job_position_INV               0.000046\n",
      "148) job_position_PNS               0.000044\n",
      "149) job_position_HSK               0.000027\n",
      "150) living_region_ПРИВОЛЖСКИЙФЕДЕРАЛЬНЫЙ 0.000025\n",
      "151) tariff_id_1.29                 0.000021\n",
      "152) living_region_ЭВЕНКИЙСКИЙ      0.000021\n",
      "153) tariff_id_1.26                 0.000017\n",
      "154) living_region_ГОРЬКОВСКАЯ      0.000013\n",
      "155) job_position_ONB               0.000003\n",
      "156) tariff_id_1.52                 0.000003\n",
      "157) tariff_id_1.27                 0.000002\n",
      "158) living_region_ГУСЬХРУСТАЛЬНЫЙ  0.000002\n",
      "159) living_region_ДАЛЬНИЙВОСТОК    0.000002\n",
      "160) living_region_КАМЧАТСКАЯ       0.000001\n",
      "161) tariff_id_1.28                 0.000001\n",
      "162) tariff_id_1.48                 0.000001\n",
      "163) tariff_id_1.96                 0.000001\n",
      "164) tariff_id_1.56                 0.000001\n",
      "165) knownCreditCount               0.000000\n",
      "166) knownIncome                    0.000000\n",
      "167) knownOverdueCreditCount        0.000000\n",
      "168) living_region_ЧЕЛЯБИНСК        0.000000\n",
      "169) living_region_ОРЁЛ             0.000000\n",
      "170) living_region_ОДИНЦОВО         0.000000\n",
      "171) living_region_МОСКОВСКИЙ       0.000000\n",
      "172) living_region_МЫТИЩИНСКИЙ      0.000000\n"
     ]
    }
   ],
   "source": [
    "feat_labels = X_train.columns\n",
    "importances = rf.feature_importances_\n",
    "indices = np.argsort(importances)[::-1]\n",
    "for f in range(X_train.shape[1]):\n",
    "    print(\"%2d) %-*s %f\" % (f + 1, 30, feat_labels[indices[f]], importances[indices[f]]))"
   ]
  },
  {
   "cell_type": "code",
   "execution_count": 97,
   "metadata": {
    "collapsed": true
   },
   "outputs": [
    {
     "data": {
      "image/png": "[encoded data removed]",
      "text/plain": [
       "<matplotlib.figure.Figure at 0x7fbb5139a7b8>"
      ]
     },
     "metadata": {},
     "output_type": "display_data"
    }
   ],
   "source": [
    "plt.title('Feature Importances')\n",
    "plt.bar(range(X_train.shape[1]), importances[indices], color='lightblue', align='center')\n",
    "plt.xticks(range(X_train.shape[1]), feat_labels[indices], rotation=90)\n",
    "plt.xlim([-1, X_train.shape[1]])\n",
    "plt.tight_layout()\n",
    "plt.show()"
   ]
  },
  {
   "cell_type": "code",
   "execution_count": 102,
   "metadata": {
    "collapsed": false
   },
   "outputs": [
    {
     "name": "stderr",
     "output_type": "stream",
     "text": [
      "Process ForkPoolWorker-2:\n",
      "Process ForkPoolWorker-57:\n",
      "Process ForkPoolWorker-26:\n",
      "Process ForkPoolWorker-55:\n",
      "Process ForkPoolWorker-33:\n",
      "Process ForkPoolWorker-11:\n",
      "Process ForkPoolWorker-64:\n",
      "Process ForkPoolWorker-1:\n",
      "Process ForkPoolWorker-35:\n",
      "Process ForkPoolWorker-16:\n",
      "Process ForkPoolWorker-14:\n",
      "Process ForkPoolWorker-56:\n",
      "Process ForkPoolWorker-36:\n",
      "Process ForkPoolWorker-17:\n",
      "Process ForkPoolWorker-15:\n",
      "Traceback (most recent call last):\n",
      "Traceback (most recent call last):\n",
      "  File \"/home/baker/anaconda3/lib/python3.5/multiprocessing/process.py\", line 249, in _bootstrap\n",
      "    self.run()\n",
      "Traceback (most recent call last):\n"
     ]
    },
    {
     "ename": "KeyboardInterrupt",
     "evalue": "",
     "output_type": "error",
     "traceback": [
      "\u001b[0;31m---------------------------------------------------------------------------\u001b[0m",
      "\u001b[0;31mKeyboardInterrupt\u001b[0m                         Traceback (most recent call last)",
      "\u001b[0;32m<ipython-input-102-562bcfc7b006>\u001b[0m in \u001b[0;36m<module>\u001b[0;34m()\u001b[0m\n\u001b[0;32m----> 1\u001b[0;31m \u001b[0mplot_learning_curve\u001b[0m\u001b[0;34m(\u001b[0m\u001b[0mestimator\u001b[0m\u001b[0;34m=\u001b[0m\u001b[0mpipe_rf\u001b[0m\u001b[0;34m,\u001b[0m \u001b[0mX\u001b[0m\u001b[0;34m=\u001b[0m\u001b[0mX_train\u001b[0m\u001b[0;34m,\u001b[0m \u001b[0my\u001b[0m\u001b[0;34m=\u001b[0m\u001b[0my_train\u001b[0m\u001b[0;34m,\u001b[0m \u001b[0mtrain_sizes\u001b[0m\u001b[0;34m=\u001b[0m\u001b[0mnp\u001b[0m\u001b[0;34m.\u001b[0m\u001b[0mlinspace\u001b[0m\u001b[0;34m(\u001b[0m\u001b[0;36m0.1\u001b[0m\u001b[0;34m,\u001b[0m \u001b[0;36m1.0\u001b[0m\u001b[0;34m,\u001b[0m \u001b[0;36m10\u001b[0m\u001b[0;34m)\u001b[0m\u001b[0;34m,\u001b[0m \u001b[0mcv\u001b[0m\u001b[0;34m=\u001b[0m\u001b[0;36m10\u001b[0m\u001b[0;34m,\u001b[0m \u001b[0mn_jobs\u001b[0m\u001b[0;34m=\u001b[0m\u001b[0;34m-\u001b[0m\u001b[0;36m1\u001b[0m\u001b[0;34m)\u001b[0m\u001b[0;34m\u001b[0m\u001b[0m\n\u001b[0m",
      "\u001b[0;32m<ipython-input-101-52f669945a33>\u001b[0m in \u001b[0;36mplot_learning_curve\u001b[0;34m(estimator, X, y, train_sizes, cv, n_jobs)\u001b[0m\n\u001b[1;32m      6\u001b[0m     '''\n\u001b[1;32m      7\u001b[0m     train_sizes, train_scores, test_scores = learning_curve(estimator=estimator, X=X, y=y, \n\u001b[0;32m----> 8\u001b[0;31m                                                         train_sizes=np.linspace(0.1, 1.0, 10), cv=10, n_jobs=-1)\n\u001b[0m\u001b[1;32m      9\u001b[0m     \u001b[0mtrain_mean\u001b[0m \u001b[0;34m=\u001b[0m \u001b[0mnp\u001b[0m\u001b[0;34m.\u001b[0m\u001b[0mmean\u001b[0m\u001b[0;34m(\u001b[0m\u001b[0mtrain_scores\u001b[0m\u001b[0;34m,\u001b[0m \u001b[0maxis\u001b[0m\u001b[0;34m=\u001b[0m\u001b[0;36m1\u001b[0m\u001b[0;34m)\u001b[0m\u001b[0;34m\u001b[0m\u001b[0m\n\u001b[1;32m     10\u001b[0m     \u001b[0mtrain_std\u001b[0m \u001b[0;34m=\u001b[0m \u001b[0mnp\u001b[0m\u001b[0;34m.\u001b[0m\u001b[0mstd\u001b[0m\u001b[0;34m(\u001b[0m\u001b[0mtrain_scores\u001b[0m\u001b[0;34m,\u001b[0m \u001b[0maxis\u001b[0m\u001b[0;34m=\u001b[0m\u001b[0;36m1\u001b[0m\u001b[0;34m)\u001b[0m\u001b[0;34m\u001b[0m\u001b[0m\n",
      "\u001b[0;32m/home/baker/anaconda3/lib/python3.5/site-packages/sklearn/model_selection/_validation.py\u001b[0m in \u001b[0;36mlearning_curve\u001b[0;34m(estimator, X, y, groups, train_sizes, cv, scoring, exploit_incremental_learning, n_jobs, pre_dispatch, verbose)\u001b[0m\n\u001b[1;32m    770\u001b[0m             \u001b[0mclone\u001b[0m\u001b[0;34m(\u001b[0m\u001b[0mestimator\u001b[0m\u001b[0;34m)\u001b[0m\u001b[0;34m,\u001b[0m \u001b[0mX\u001b[0m\u001b[0;34m,\u001b[0m \u001b[0my\u001b[0m\u001b[0;34m,\u001b[0m \u001b[0mscorer\u001b[0m\u001b[0;34m,\u001b[0m \u001b[0mtrain\u001b[0m\u001b[0;34m[\u001b[0m\u001b[0;34m:\u001b[0m\u001b[0mn_train_samples\u001b[0m\u001b[0;34m]\u001b[0m\u001b[0;34m,\u001b[0m \u001b[0mtest\u001b[0m\u001b[0;34m,\u001b[0m\u001b[0;34m\u001b[0m\u001b[0m\n\u001b[1;32m    771\u001b[0m             verbose, parameters=None, fit_params=None, return_train_score=True)\n\u001b[0;32m--> 772\u001b[0;31m             \u001b[0;32mfor\u001b[0m \u001b[0mtrain\u001b[0m\u001b[0;34m,\u001b[0m \u001b[0mtest\u001b[0m \u001b[0;32min\u001b[0m \u001b[0mcv_iter\u001b[0m\u001b[0;34m\u001b[0m\u001b[0m\n\u001b[0m\u001b[1;32m    773\u001b[0m             for n_train_samples in train_sizes_abs)\n\u001b[1;32m    774\u001b[0m         \u001b[0mout\u001b[0m \u001b[0;34m=\u001b[0m \u001b[0mnp\u001b[0m\u001b[0;34m.\u001b[0m\u001b[0marray\u001b[0m\u001b[0;34m(\u001b[0m\u001b[0mout\u001b[0m\u001b[0;34m)\u001b[0m\u001b[0;34m\u001b[0m\u001b[0m\n",
      "\u001b[0;32m/home/baker/anaconda3/lib/python3.5/site-packages/sklearn/externals/joblib/parallel.py\u001b[0m in \u001b[0;36m__call__\u001b[0;34m(self, iterable)\u001b[0m\n\u001b[1;32m    766\u001b[0m                 \u001b[0;31m# consumption.\u001b[0m\u001b[0;34m\u001b[0m\u001b[0;34m\u001b[0m\u001b[0m\n\u001b[1;32m    767\u001b[0m                 \u001b[0mself\u001b[0m\u001b[0;34m.\u001b[0m\u001b[0m_iterating\u001b[0m \u001b[0;34m=\u001b[0m \u001b[0;32mFalse\u001b[0m\u001b[0;34m\u001b[0m\u001b[0m\n\u001b[0;32m--> 768\u001b[0;31m             \u001b[0mself\u001b[0m\u001b[0;34m.\u001b[0m\u001b[0mretrieve\u001b[0m\u001b[0;34m(\u001b[0m\u001b[0;34m)\u001b[0m\u001b[0;34m\u001b[0m\u001b[0m\n\u001b[0m\u001b[1;32m    769\u001b[0m             \u001b[0;31m# Make sure that we get a last message telling us we are done\u001b[0m\u001b[0;34m\u001b[0m\u001b[0;34m\u001b[0m\u001b[0m\n\u001b[1;32m    770\u001b[0m             \u001b[0melapsed_time\u001b[0m \u001b[0;34m=\u001b[0m \u001b[0mtime\u001b[0m\u001b[0;34m.\u001b[0m\u001b[0mtime\u001b[0m\u001b[0;34m(\u001b[0m\u001b[0;34m)\u001b[0m \u001b[0;34m-\u001b[0m \u001b[0mself\u001b[0m\u001b[0;34m.\u001b[0m\u001b[0m_start_time\u001b[0m\u001b[0;34m\u001b[0m\u001b[0m\n",
      "\u001b[0;32m/home/baker/anaconda3/lib/python3.5/site-packages/sklearn/externals/joblib/parallel.py\u001b[0m in \u001b[0;36mretrieve\u001b[0;34m(self)\u001b[0m\n\u001b[1;32m    717\u001b[0m                     \u001b[0mensure_ready\u001b[0m \u001b[0;34m=\u001b[0m \u001b[0mself\u001b[0m\u001b[0;34m.\u001b[0m\u001b[0m_managed_backend\u001b[0m\u001b[0;34m\u001b[0m\u001b[0m\n\u001b[1;32m    718\u001b[0m                     \u001b[0mbackend\u001b[0m\u001b[0;34m.\u001b[0m\u001b[0mabort_everything\u001b[0m\u001b[0;34m(\u001b[0m\u001b[0mensure_ready\u001b[0m\u001b[0;34m=\u001b[0m\u001b[0mensure_ready\u001b[0m\u001b[0;34m)\u001b[0m\u001b[0;34m\u001b[0m\u001b[0m\n\u001b[0;32m--> 719\u001b[0;31m                 \u001b[0;32mraise\u001b[0m \u001b[0mexception\u001b[0m\u001b[0;34m\u001b[0m\u001b[0m\n\u001b[0m\u001b[1;32m    720\u001b[0m \u001b[0;34m\u001b[0m\u001b[0m\n\u001b[1;32m    721\u001b[0m     \u001b[0;32mdef\u001b[0m \u001b[0m__call__\u001b[0m\u001b[0;34m(\u001b[0m\u001b[0mself\u001b[0m\u001b[0;34m,\u001b[0m \u001b[0miterable\u001b[0m\u001b[0;34m)\u001b[0m\u001b[0;34m:\u001b[0m\u001b[0;34m\u001b[0m\u001b[0m\n",
      "\u001b[0;32m/home/baker/anaconda3/lib/python3.5/site-packages/sklearn/externals/joblib/parallel.py\u001b[0m in \u001b[0;36mretrieve\u001b[0;34m(self)\u001b[0m\n\u001b[1;32m    680\u001b[0m                 \u001b[0;31m# check if timeout supported in backend future implementation\u001b[0m\u001b[0;34m\u001b[0m\u001b[0;34m\u001b[0m\u001b[0m\n\u001b[1;32m    681\u001b[0m                 \u001b[0;32mif\u001b[0m \u001b[0;34m'timeout'\u001b[0m \u001b[0;32min\u001b[0m \u001b[0mgetfullargspec\u001b[0m\u001b[0;34m(\u001b[0m\u001b[0mjob\u001b[0m\u001b[0;34m.\u001b[0m\u001b[0mget\u001b[0m\u001b[0;34m)\u001b[0m\u001b[0;34m.\u001b[0m\u001b[0margs\u001b[0m\u001b[0;34m:\u001b[0m\u001b[0;34m\u001b[0m\u001b[0m\n\u001b[0;32m--> 682\u001b[0;31m                     \u001b[0mself\u001b[0m\u001b[0;34m.\u001b[0m\u001b[0m_output\u001b[0m\u001b[0;34m.\u001b[0m\u001b[0mextend\u001b[0m\u001b[0;34m(\u001b[0m\u001b[0mjob\u001b[0m\u001b[0;34m.\u001b[0m\u001b[0mget\u001b[0m\u001b[0;34m(\u001b[0m\u001b[0mtimeout\u001b[0m\u001b[0;34m=\u001b[0m\u001b[0mself\u001b[0m\u001b[0;34m.\u001b[0m\u001b[0mtimeout\u001b[0m\u001b[0;34m)\u001b[0m\u001b[0;34m)\u001b[0m\u001b[0;34m\u001b[0m\u001b[0m\n\u001b[0m\u001b[1;32m    683\u001b[0m                 \u001b[0;32melse\u001b[0m\u001b[0;34m:\u001b[0m\u001b[0;34m\u001b[0m\u001b[0m\n\u001b[1;32m    684\u001b[0m                     \u001b[0mself\u001b[0m\u001b[0;34m.\u001b[0m\u001b[0m_output\u001b[0m\u001b[0;34m.\u001b[0m\u001b[0mextend\u001b[0m\u001b[0;34m(\u001b[0m\u001b[0mjob\u001b[0m\u001b[0;34m.\u001b[0m\u001b[0mget\u001b[0m\u001b[0;34m(\u001b[0m\u001b[0;34m)\u001b[0m\u001b[0;34m)\u001b[0m\u001b[0;34m\u001b[0m\u001b[0m\n",
      "\u001b[0;32m/home/baker/anaconda3/lib/python3.5/multiprocessing/pool.py\u001b[0m in \u001b[0;36mget\u001b[0;34m(self, timeout)\u001b[0m\n\u001b[1;32m    600\u001b[0m \u001b[0;34m\u001b[0m\u001b[0m\n\u001b[1;32m    601\u001b[0m     \u001b[0;32mdef\u001b[0m \u001b[0mget\u001b[0m\u001b[0;34m(\u001b[0m\u001b[0mself\u001b[0m\u001b[0;34m,\u001b[0m \u001b[0mtimeout\u001b[0m\u001b[0;34m=\u001b[0m\u001b[0;32mNone\u001b[0m\u001b[0;34m)\u001b[0m\u001b[0;34m:\u001b[0m\u001b[0;34m\u001b[0m\u001b[0m\n\u001b[0;32m--> 602\u001b[0;31m         \u001b[0mself\u001b[0m\u001b[0;34m.\u001b[0m\u001b[0mwait\u001b[0m\u001b[0;34m(\u001b[0m\u001b[0mtimeout\u001b[0m\u001b[0;34m)\u001b[0m\u001b[0;34m\u001b[0m\u001b[0m\n\u001b[0m\u001b[1;32m    603\u001b[0m         \u001b[0;32mif\u001b[0m \u001b[0;32mnot\u001b[0m \u001b[0mself\u001b[0m\u001b[0;34m.\u001b[0m\u001b[0mready\u001b[0m\u001b[0;34m(\u001b[0m\u001b[0;34m)\u001b[0m\u001b[0;34m:\u001b[0m\u001b[0;34m\u001b[0m\u001b[0m\n\u001b[1;32m    604\u001b[0m             \u001b[0;32mraise\u001b[0m \u001b[0mTimeoutError\u001b[0m\u001b[0;34m\u001b[0m\u001b[0m\n",
      "\u001b[0;32m/home/baker/anaconda3/lib/python3.5/multiprocessing/pool.py\u001b[0m in \u001b[0;36mwait\u001b[0;34m(self, timeout)\u001b[0m\n\u001b[1;32m    597\u001b[0m \u001b[0;34m\u001b[0m\u001b[0m\n\u001b[1;32m    598\u001b[0m     \u001b[0;32mdef\u001b[0m \u001b[0mwait\u001b[0m\u001b[0;34m(\u001b[0m\u001b[0mself\u001b[0m\u001b[0;34m,\u001b[0m \u001b[0mtimeout\u001b[0m\u001b[0;34m=\u001b[0m\u001b[0;32mNone\u001b[0m\u001b[0;34m)\u001b[0m\u001b[0;34m:\u001b[0m\u001b[0;34m\u001b[0m\u001b[0m\n\u001b[0;32m--> 599\u001b[0;31m         \u001b[0mself\u001b[0m\u001b[0;34m.\u001b[0m\u001b[0m_event\u001b[0m\u001b[0;34m.\u001b[0m\u001b[0mwait\u001b[0m\u001b[0;34m(\u001b[0m\u001b[0mtimeout\u001b[0m\u001b[0;34m)\u001b[0m\u001b[0;34m\u001b[0m\u001b[0m\n\u001b[0m\u001b[1;32m    600\u001b[0m \u001b[0;34m\u001b[0m\u001b[0m\n\u001b[1;32m    601\u001b[0m     \u001b[0;32mdef\u001b[0m \u001b[0mget\u001b[0m\u001b[0;34m(\u001b[0m\u001b[0mself\u001b[0m\u001b[0;34m,\u001b[0m \u001b[0mtimeout\u001b[0m\u001b[0;34m=\u001b[0m\u001b[0;32mNone\u001b[0m\u001b[0;34m)\u001b[0m\u001b[0;34m:\u001b[0m\u001b[0;34m\u001b[0m\u001b[0m\n",
      "\u001b[0;32m/home/baker/anaconda3/lib/python3.5/threading.py\u001b[0m in \u001b[0;36mwait\u001b[0;34m(self, timeout)\u001b[0m\n\u001b[1;32m    547\u001b[0m             \u001b[0msignaled\u001b[0m \u001b[0;34m=\u001b[0m \u001b[0mself\u001b[0m\u001b[0;34m.\u001b[0m\u001b[0m_flag\u001b[0m\u001b[0;34m\u001b[0m\u001b[0m\n\u001b[1;32m    548\u001b[0m             \u001b[0;32mif\u001b[0m \u001b[0;32mnot\u001b[0m \u001b[0msignaled\u001b[0m\u001b[0;34m:\u001b[0m\u001b[0;34m\u001b[0m\u001b[0m\n\u001b[0;32m--> 549\u001b[0;31m                 \u001b[0msignaled\u001b[0m \u001b[0;34m=\u001b[0m \u001b[0mself\u001b[0m\u001b[0;34m.\u001b[0m\u001b[0m_cond\u001b[0m\u001b[0;34m.\u001b[0m\u001b[0mwait\u001b[0m\u001b[0;34m(\u001b[0m\u001b[0mtimeout\u001b[0m\u001b[0;34m)\u001b[0m\u001b[0;34m\u001b[0m\u001b[0m\n\u001b[0m\u001b[1;32m    550\u001b[0m             \u001b[0;32mreturn\u001b[0m \u001b[0msignaled\u001b[0m\u001b[0;34m\u001b[0m\u001b[0m\n\u001b[1;32m    551\u001b[0m \u001b[0;34m\u001b[0m\u001b[0m\n",
      "\u001b[0;32m/home/baker/anaconda3/lib/python3.5/threading.py\u001b[0m in \u001b[0;36mwait\u001b[0;34m(self, timeout)\u001b[0m\n\u001b[1;32m    291\u001b[0m         \u001b[0;32mtry\u001b[0m\u001b[0;34m:\u001b[0m    \u001b[0;31m# restore state no matter what (e.g., KeyboardInterrupt)\u001b[0m\u001b[0;34m\u001b[0m\u001b[0m\n\u001b[1;32m    292\u001b[0m             \u001b[0;32mif\u001b[0m \u001b[0mtimeout\u001b[0m \u001b[0;32mis\u001b[0m \u001b[0;32mNone\u001b[0m\u001b[0;34m:\u001b[0m\u001b[0;34m\u001b[0m\u001b[0m\n\u001b[0;32m--> 293\u001b[0;31m                 \u001b[0mwaiter\u001b[0m\u001b[0;34m.\u001b[0m\u001b[0macquire\u001b[0m\u001b[0;34m(\u001b[0m\u001b[0;34m)\u001b[0m\u001b[0;34m\u001b[0m\u001b[0m\n\u001b[0m\u001b[1;32m    294\u001b[0m                 \u001b[0mgotit\u001b[0m \u001b[0;34m=\u001b[0m \u001b[0;32mTrue\u001b[0m\u001b[0;34m\u001b[0m\u001b[0m\n\u001b[1;32m    295\u001b[0m             \u001b[0;32melse\u001b[0m\u001b[0;34m:\u001b[0m\u001b[0;34m\u001b[0m\u001b[0m\n",
      "\u001b[0;31mKeyboardInterrupt\u001b[0m: "
     ]
    }
   ],
   "source": [
    "start_time = time.time()\n",
    "plot_learning_curve(estimator=pipe_rf, X=X_train, y=y_train, train_sizes=np.linspace(0.1, 1.0, 10), cv=10, n_jobs=-1)\n",
    "print(\"--- %s seconds ---\" % (time.time() - start_time))"
   ]
  },
  {
   "cell_type": "code",
   "execution_count": null,
   "metadata": {
    "collapsed": true
   },
   "outputs": [],
   "source": []
  },
  {
   "cell_type": "code",
   "execution_count": null,
   "metadata": {
    "collapsed": true
   },
   "outputs": [],
   "source": [
    "param_range = [0.0001, 0.001, 0.01, 0.1, 1.0, 10.0, 100.0, 1000.0]\n",
    "\n",
    "param_grid = [{'clf__max_features': param_range,\n",
    "               'clf__max_depth' : ['l1', 'l2']},\n",
    "              {'clf__max_features': param_range,\n",
    "               'clf__max_depth' : ['l1', 'l2']}]\n",
    "gs = GridSearchCV(estimator=pipe_lr, param_grid=param_grid, scoring='accuracy', cv=10, n_jobs=-1)\n",
    "start_time = time.time()\n",
    "gs = gs.fit(X_train, y_train)\n",
    "print(\"--- %s seconds ---\" % (time.time() - start_time))"
   ]
  },
  {
   "cell_type": "code",
   "execution_count": null,
   "metadata": {
    "collapsed": true
   },
   "outputs": [],
   "source": [
    "print(gs.best_score_)"
   ]
  },
  {
   "cell_type": "code",
   "execution_count": null,
   "metadata": {
    "collapsed": true
   },
   "outputs": [],
   "source": [
    "print(gs.best_params_)"
   ]
  },
  {
   "cell_type": "code",
   "execution_count": null,
   "metadata": {
    "collapsed": true
   },
   "outputs": [],
   "source": [
    "lr = gs.best_estimator_"
   ]
  },
  {
   "cell_type": "code",
   "execution_count": null,
   "metadata": {
    "collapsed": true
   },
   "outputs": [],
   "source": [
    "np.linspace(0.1, 1.0, 10)"
   ]
  },
  {
   "cell_type": "code",
   "execution_count": null,
   "metadata": {
    "collapsed": true
   },
   "outputs": [],
   "source": []
  },
  {
   "cell_type": "markdown",
   "metadata": {},
   "source": [
    "### Principal Components Analysis"
   ]
  },
  {
   "cell_type": "code",
   "execution_count": 62,
   "metadata": {
    "collapsed": true
   },
   "outputs": [],
   "source": [
    "pipe = Pipeline([('imr', Imputer(missing_values='NaN', strategy='mean', axis=0))])"
   ]
  },
  {
   "cell_type": "code",
   "execution_count": 63,
   "metadata": {
    "collapsed": false
   },
   "outputs": [],
   "source": [
    "X_imt = pipe.fit_transform(X_train)"
   ]
  },
  {
   "cell_type": "code",
   "execution_count": 66,
   "metadata": {
    "collapsed": false
   },
   "outputs": [],
   "source": [
    "X_train_pca = pca.fit_transform(X_imt)\n",
    "evr = pca.explained_variance_ratio_\n",
    "cum_evr = np.cumsum(evr)"
   ]
  },
  {
   "cell_type": "code",
   "execution_count": 71,
   "metadata": {
    "collapsed": true
   },
   "outputs": [
    {
     "data": {
      "text/plain": [
       "array([  7.58403411e-01,   2.41596444e-01,   1.24174183e-07,\n",
       "         1.33232425e-08,   3.24038379e-09,   5.85446461e-10,\n",
       "         4.75270983e-10,   4.05215871e-10,   3.25326625e-10,\n",
       "         2.38409118e-10,   1.61126978e-10,   1.44285174e-10,\n",
       "         9.57048229e-11,   8.39953974e-11,   7.99289180e-11,\n",
       "         6.34399260e-11,   6.27662114e-11,   5.73264911e-11,\n",
       "         5.35449176e-11,   5.00271667e-11,   4.89630363e-11,\n",
       "         4.54503450e-11,   4.49597313e-11,   4.18747296e-11,\n",
       "         4.00784874e-11,   3.88844137e-11,   3.34947804e-11,\n",
       "         3.24559769e-11,   3.19718865e-11,   3.04556182e-11,\n",
       "         2.85724895e-11,   2.82647632e-11,   2.77503464e-11,\n",
       "         2.60480513e-11,   2.49336074e-11,   2.41423485e-11,\n",
       "         2.35252211e-11,   2.29332298e-11,   2.18543877e-11,\n",
       "         2.14865269e-11,   2.10103657e-11,   1.99260560e-11,\n",
       "         1.92020922e-11,   1.80771422e-11,   1.76913240e-11,\n",
       "         1.70142057e-11,   1.58248850e-11,   1.56313734e-11,\n",
       "         1.52093189e-11,   1.46481423e-11,   1.37795475e-11,\n",
       "         1.37581443e-11,   1.28870413e-11,   1.25273254e-11,\n",
       "         1.22073776e-11,   1.16708158e-11,   1.12335353e-11,\n",
       "         1.08734202e-11,   1.02185168e-11,   1.02084602e-11,\n",
       "         1.01166814e-11,   9.52145515e-12,   9.12321312e-12,\n",
       "         8.97481938e-12,   8.82825862e-12,   8.75488573e-12,\n",
       "         8.54074419e-12,   8.38309739e-12,   8.10912986e-12,\n",
       "         7.63598255e-12,   7.40517190e-12,   7.35112491e-12,\n",
       "         7.21971274e-12,   6.74589888e-12,   6.40265483e-12,\n",
       "         6.29430554e-12,   6.29138491e-12,   6.12613240e-12,\n",
       "         6.01958476e-12,   5.98596789e-12,   5.71812161e-12,\n",
       "         5.60178665e-12,   5.37055638e-12,   5.33885499e-12,\n",
       "         5.31090372e-12,   5.14076757e-12,   5.08677647e-12,\n",
       "         4.95200468e-12,   4.94903656e-12,   4.93258478e-12,\n",
       "         4.85667033e-12,   4.83694014e-12,   4.77112693e-12,\n",
       "         4.72419455e-12,   4.68802925e-12,   4.54353728e-12,\n",
       "         4.29982553e-12,   4.21072816e-12,   4.10690623e-12,\n",
       "         4.02482393e-12,   3.91453608e-12,   3.80004104e-12,\n",
       "         3.75954242e-12,   3.68757127e-12,   3.65617104e-12,\n",
       "         3.63624383e-12,   3.59818863e-12,   3.57504450e-12,\n",
       "         3.21275050e-12,   2.89953890e-12,   2.70959234e-12,\n",
       "         2.62070878e-12,   2.56858220e-12,   2.54089612e-12,\n",
       "         2.52488219e-12,   2.39836402e-12,   2.18589391e-12,\n",
       "         2.09700381e-12,   2.05109177e-12,   1.66110706e-12,\n",
       "         1.38128979e-12,   1.15183549e-12,   1.06326632e-12,\n",
       "         9.39543761e-13,   8.92308538e-13,   8.87506330e-13,\n",
       "         7.26360333e-13,   4.40066577e-13,   4.24283342e-13,\n",
       "         4.12111603e-13,   3.26008419e-13,   3.18330690e-13,\n",
       "         2.79895531e-13,   2.23164242e-13,   2.06430228e-13,\n",
       "         2.01601210e-13,   1.33659088e-13,   1.18764832e-13,\n",
       "         1.16402455e-13,   8.91504174e-14,   8.38082437e-14,\n",
       "         5.76062196e-14,   5.17778015e-14,   4.65755625e-14,\n",
       "         4.65274084e-14,   4.04739546e-14,   2.40479350e-14,\n",
       "         2.32631618e-14,   1.60021369e-14,   1.58954475e-14,\n",
       "         1.55235636e-14,   8.22244733e-15,   8.19163436e-15,\n",
       "         8.10127576e-15,   7.76348526e-15,   7.76096684e-15,\n",
       "         7.76042400e-15,   7.75896215e-15,   4.65250639e-33,\n",
       "         4.65250639e-33,   4.65250639e-33,   4.65250639e-33,\n",
       "         4.65250639e-33,   4.65250639e-33,   4.65250639e-33,\n",
       "         4.65250639e-33,   4.65250639e-33,   4.65250639e-33,\n",
       "         4.65250639e-33,   4.65250639e-33,   4.65250639e-33,\n",
       "         1.99042694e-41])"
      ]
     },
     "execution_count": 71,
     "metadata": {},
     "output_type": "execute_result"
    }
   ],
   "source": [
    "evr"
   ]
  },
  {
   "cell_type": "code",
   "execution_count": 69,
   "metadata": {
    "collapsed": false
   },
   "outputs": [
    {
     "data": {
      "image/png": "[encoded data removed]",
      "text/plain": [
       "<matplotlib.figure.Figure at 0x7fbb4c25dc88>"
      ]
     },
     "metadata": {},
     "output_type": "display_data"
    }
   ],
   "source": [
    "plt.bar(range(1, len(evr)+1), evr, alpha=0.5, align='center', label='individual explained variance')\n",
    "plt.step(range(1, len(cum_evr)+1), cum_evr, where='mid', label='cumulative explained variance')\n",
    "plt.ylabel('Explained variance ratio')\n",
    "plt.xlabel('Principal components')\n",
    "plt.legend(loc='best')\n",
    "plt.show()"
   ]
  },
  {
   "cell_type": "markdown",
   "metadata": {},
   "source": [
    "### Support vector machine"
   ]
  },
  {
   "cell_type": "code",
   "execution_count": 73,
   "metadata": {
    "collapsed": false
   },
   "outputs": [],
   "source": [
    "pipe_svc = Pipeline([('imr', Imputer(missing_values='NaN', strategy='mean', axis=0)),\n",
    "                     ('scl', StandardScaler()),\n",
    "                     ('pca', PCA(n_components=2)),\n",
    "                     ('clf', SVC(random_state=1))])"
   ]
  },
  {
   "cell_type": "code",
   "execution_count": 74,
   "metadata": {
    "collapsed": false
   },
   "outputs": [
    {
     "name": "stdout",
     "output_type": "stream",
     "text": [
      "--- 276.779096364975 seconds ---\n"
     ]
    }
   ],
   "source": [
    "start_time = time.time()\n",
    "pipe_svc.fit(X_train, y_train)\n",
    "print(\"--- %s seconds ---\" % (time.time() - start_time))"
   ]
  },
  {
   "cell_type": "code",
   "execution_count": 75,
   "metadata": {
    "collapsed": false
   },
   "outputs": [
    {
     "name": "stdout",
     "output_type": "stream",
     "text": [
      "Test Accuracy: 0.824\n"
     ]
    }
   ],
   "source": [
    "print('Test Accuracy: %.3f' % pipe_svc.score(X_test, y_test))"
   ]
  },
  {
   "cell_type": "markdown",
   "metadata": {},
   "source": [
    "#### Grid search"
   ]
  },
  {
   "cell_type": "code",
   "execution_count": null,
   "metadata": {
    "collapsed": true
   },
   "outputs": [],
   "source": [
    "param_range = [0.0001, 0.001, 0.01, 0.1, 1.0, 10.0, 100.0, 1000.0]\n",
    "param_grid = [{'clf__C': param_range, 'clf__kernel': ['linear']},\n",
    "              {'clf__C': param_range, 'clf__gamma': param_range, 'clf__kernel': ['rbf']}]\n",
    "gs = GridSearchCV(estimator=pipe_svc, param_grid=param_grid, scoring='roc_auc', cv=10, n_jobs=-1)\n",
    "gs = gs.fit(X_train, y_train)"
   ]
  },
  {
   "cell_type": "code",
   "execution_count": null,
   "metadata": {
    "collapsed": true
   },
   "outputs": [],
   "source": [
    "print(gs.best_score_)\n",
    "print(gs.best_params_)"
   ]
  },
  {
   "cell_type": "code",
   "execution_count": null,
   "metadata": {
    "collapsed": true
   },
   "outputs": [],
   "source": [
    "svc = gs.best_estimator_"
   ]
  },
  {
   "cell_type": "markdown",
   "metadata": {},
   "source": [
    "#### Confusion matrix"
   ]
  },
  {
   "cell_type": "code",
   "execution_count": null,
   "metadata": {
    "collapsed": true
   },
   "outputs": [],
   "source": [
    "svc.fit(X_train, y_train)\n",
    "y_pred = svc.predict(X_test)\n",
    "confmat = confusion_matrix(y_true=y_test, y_pred=y_pred)\n",
    "print(confmat)"
   ]
  },
  {
   "cell_type": "code",
   "execution_count": null,
   "metadata": {
    "collapsed": true
   },
   "outputs": [],
   "source": [
    "fig, ax = plt.subplots(figsize=(2.5, 2.5))\n",
    "ax.matshow(confmat, cmap=plt.cm.Blues, alpha=0.3)\n",
    "for i in range(confmat.shape[0]):\n",
    "    for j in range(confmat.shape[1]):\n",
    "        ax.text(x=j, y=i, s=confmat[i, j], va='center', ha='center')\n",
    "plt.xlabel('predicted label')\n",
    "plt.ylabel('true label')\n",
    "plt.show()"
   ]
  },
  {
   "cell_type": "code",
   "execution_count": null,
   "metadata": {
    "collapsed": true
   },
   "outputs": [],
   "source": [
    "print('Precision: %.3f' % precision_score(y_true=y_test, y_pred=y_pred))\n",
    "print('Recall: %.3f' % recall_score(y_true=y_test, y_pred=y_pred))\n",
    "print('F1: %.3f' % f1_score(y_true=y_test, y_pred=y_pred))\n",
    "print('ROC AUC: %.3f' % roc_auc_score(y_true=y_test, y_score=y_pred))\n",
    "print('Accuracy: %.3f' % accuracy_score(y_true=y_test, y_pred=y_pred))"
   ]
  },
  {
   "cell_type": "code",
   "execution_count": null,
   "metadata": {
    "collapsed": true
   },
   "outputs": [],
   "source": []
  },
  {
   "cell_type": "code",
   "execution_count": null,
   "metadata": {
    "collapsed": true
   },
   "outputs": [],
   "source": []
  },
  {
   "cell_type": "code",
   "execution_count": null,
   "metadata": {
    "collapsed": true
   },
   "outputs": [],
   "source": []
  },
  {
   "cell_type": "code",
   "execution_count": null,
   "metadata": {
    "collapsed": true
   },
   "outputs": [],
   "source": []
  }
 ],
 "metadata": {
  "kernelspec": {
   "display_name": "Python [conda root]",
   "language": "python",
   "name": "conda-root-py"
  },
  "language_info": {
   "codemirror_mode": {
    "name": "ipython",
    "version": 3
   },
   "file_extension": ".py",
   "mimetype": "text/x-python",
   "name": "python",
   "nbconvert_exporter": "python",
   "pygments_lexer": "ipython3",
   "version": "3.5.2"
  }
 },
 "nbformat": 4,
 "nbformat_minor": 2
}
